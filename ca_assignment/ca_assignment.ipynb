{
 "cells": [
  {
   "cell_type": "markdown",
   "metadata": {},
   "source": [
    "# Part 1 - Filters\n"
   ]
  },
  {
   "cell_type": "markdown",
   "metadata": {},
   "source": [
    "## Part A\n"
   ]
  },
  {
   "cell_type": "code",
   "execution_count": 15,
   "metadata": {},
   "outputs": [
    {
     "name": "stderr",
     "output_type": "stream",
     "text": [
      "Lossy conversion from float64 to uint8. Range [0, 1]. Convert image to uint8 prior to saving to suppress this warning.\n"
     ]
    }
   ],
   "source": [
    "# import required packages\n",
    "from skimage import transform\n",
    "import skimage.io as io\n",
    "import os\n",
    "\n",
    "# folderul care folosesc eu pentru ee425\n",
    "ee425_dir = os.path.join('C:\\\\', 'Users', 'adeli','Desktop','College','fourth_year','ee425-image-processing-and-analysis')\n",
    "assignment_dir = os.path.join(ee425_dir, 'ca_assignment')\n",
    "\n",
    "# Load the image\n",
    "my_face = io.imread(os.path.join(assignment_dir, 'my_face.jpg'))\n",
    "\n",
    "# resize by cropping\n",
    "# my_face_resized = my_face[0:512, 0:512]\n",
    "my_face_resized = transform.resize(my_face, (512, 512), )\n",
    "io.imsave(os.path.join(assignment_dir, 'my_face_resized.jpg'), my_face_resized)"
   ]
  }
 ],
 "metadata": {
  "kernelspec": {
   "display_name": "Python 3 (ipykernel)",
   "language": "python",
   "name": "python3"
  },
  "language_info": {
   "codemirror_mode": {
    "name": "ipython",
    "version": 3
   },
   "file_extension": ".py",
   "mimetype": "text/x-python",
   "name": "python",
   "nbconvert_exporter": "python",
   "pygments_lexer": "ipython3",
   "version": "3.11.4"
  }
 },
 "nbformat": 4,
 "nbformat_minor": 2
}
